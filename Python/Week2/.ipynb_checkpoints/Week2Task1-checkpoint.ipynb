{
 "cells": [
  {
   "cell_type": "code",
   "execution_count": 69,
   "metadata": {
    "collapsed": true
   },
   "outputs": [],
   "source": [
    "import re\n",
    "import scipy\n",
    "import numpy"
   ]
  },
  {
   "cell_type": "code",
   "execution_count": 91,
   "metadata": {
    "collapsed": false
   },
   "outputs": [],
   "source": [
    "# Открываем файл на чтение\n",
    "data_list = file_obj = open('sentences.txt', 'r')"
   ]
  },
  {
   "cell_type": "code",
   "execution_count": 93,
   "metadata": {
    "collapsed": false
   },
   "outputs": [],
   "source": [
    "# закидываем текст в список\n",
    "i_list = []\n",
    "for line in data_list:\n",
    "    i_list.append(line.strip().lower())"
   ]
  },
  {
   "cell_type": "code",
   "execution_count": 89,
   "metadata": {
    "collapsed": false
   },
   "outputs": [
    {
     "name": "stdout",
     "output_type": "stream",
     "text": [
      "the fifth major update to mac os x, leopard, contains such a mountain of features - more than 300 by apple's count.\n"
     ]
    }
   ],
   "source": [
    "# раскидываем каждое слово по-отдельности\n",
    "\n",
    "s = 0 # количество строк\n",
    "\n",
    "w_list = []\n",
    "for r in i_list:\n",
    "    w_list.append(re.split('[^a-z]', r))\n",
    "    s += 1\n",
    "\n",
    "print r"
   ]
  },
  {
   "cell_type": "code",
   "execution_count": 78,
   "metadata": {
    "collapsed": false
   },
   "outputs": [],
   "source": [
    "# убираем пустые значения и делаем уникальный сет слов\n",
    "u_words = set()\n",
    "for i in w_list:\n",
    "    i = filter(None, i)\n",
    "    for j in i:\n",
    "        u_words.add(j)"
   ]
  },
  {
   "cell_type": "code",
   "execution_count": 82,
   "metadata": {
    "collapsed": false
   },
   "outputs": [],
   "source": [
    "# создаем словарь слов\n",
    "d_worlds = dict()\n",
    "n = 0\n",
    "for i in u_words:\n",
    "    d_worlds[n]=i\n",
    "    n += 1"
   ]
  },
  {
   "cell_type": "code",
   "execution_count": 103,
   "metadata": {
    "collapsed": false
   },
   "outputs": [
    {
     "data": {
      "text/plain": [
       "2"
      ]
     },
     "execution_count": 103,
     "metadata": {},
     "output_type": "execute_result"
    }
   ],
   "source": [
    "len([i for i,x in enumerate([1,2,3,2]) if x==2])"
   ]
  },
  {
   "cell_type": "code",
   "execution_count": null,
   "metadata": {
    "collapsed": true
   },
   "outputs": [],
   "source": []
  }
 ],
 "metadata": {
  "kernelspec": {
   "display_name": "Python [default]",
   "language": "python",
   "name": "python2"
  },
  "language_info": {
   "codemirror_mode": {
    "name": "ipython",
    "version": 2
   },
   "file_extension": ".py",
   "mimetype": "text/x-python",
   "name": "python",
   "nbconvert_exporter": "python",
   "pygments_lexer": "ipython2",
   "version": "2.7.12"
  }
 },
 "nbformat": 4,
 "nbformat_minor": 1
}
