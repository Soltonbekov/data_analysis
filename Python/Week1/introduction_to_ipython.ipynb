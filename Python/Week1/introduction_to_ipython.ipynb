{
 "cells": [
  {
   "cell_type": "code",
   "execution_count": 1,
   "metadata": {
    "collapsed": false
   },
   "outputs": [
    {
     "data": {
      "text/plain": [
       "'Hello world!'"
      ]
     },
     "execution_count": 1,
     "metadata": {},
     "output_type": "execute_result"
    }
   ],
   "source": [
    "'Hello world!'"
   ]
  },
  {
   "cell_type": "code",
   "execution_count": 3,
   "metadata": {
    "collapsed": true
   },
   "outputs": [],
   "source": [
    "var = 'Hello world!'"
   ]
  },
  {
   "cell_type": "code",
   "execution_count": 4,
   "metadata": {
    "collapsed": false
   },
   "outputs": [
    {
     "data": {
      "text/plain": [
       "'Hello world!'"
      ]
     },
     "execution_count": 4,
     "metadata": {},
     "output_type": "execute_result"
    }
   ],
   "source": [
    "var"
   ]
  },
  {
   "cell_type": "code",
   "execution_count": 5,
   "metadata": {
    "collapsed": false
   },
   "outputs": [
    {
     "name": "stdout",
     "output_type": "stream",
     "text": [
      "Hello world!\n"
     ]
    }
   ],
   "source": [
    "print var"
   ]
  },
  {
   "cell_type": "markdown",
   "metadata": {},
   "source": [
    "This is regular text"
   ]
  },
  {
   "cell_type": "markdown",
   "metadata": {},
   "source": [
    "# Header"
   ]
  },
  {
   "cell_type": "markdown",
   "metadata": {},
   "source": [
    "$$ c = \\sqrt{a^2 + b^2} $$"
   ]
  },
  {
   "cell_type": "code",
   "execution_count": 7,
   "metadata": {
    "collapsed": false
   },
   "outputs": [
    {
     "name": "stdout",
     "output_type": "stream",
     "text": [
      "\"Hello world!\"\n"
     ]
    }
   ],
   "source": [
    "! echo \"Hello world!\""
   ]
  },
  {
   "cell_type": "code",
   "execution_count": 8,
   "metadata": {
    "collapsed": false
   },
   "outputs": [
    {
     "name": "stderr",
     "output_type": "stream",
     "text": [
      "'ls' is not recognized as an internal or external command,\n",
      "operable program or batch file.\n"
     ]
    }
   ],
   "source": [
    "! ls -la"
   ]
  },
  {
   "cell_type": "code",
   "execution_count": 9,
   "metadata": {
    "collapsed": false
   },
   "outputs": [
    {
     "name": "stdout",
     "output_type": "stream",
     "text": [
      " Volume in drive C is System\n",
      " Volume Serial Number is 00F3-F586\n",
      "\n",
      " Directory of C:\\Users\\Altynbek\\Documents\n",
      "\n",
      "11/15/2016  09:02 PM    <DIR>          .\n",
      "11/15/2016  09:02 PM    <DIR>          ..\n",
      "11/15/2016  08:50 PM    <DIR>          .ipynb_checkpoints\n",
      "07/29/2015  11:25 PM    <DIR>          Any Video Converter\n",
      "08/13/2016  10:16 AM    <DIR>          Aruuke\n",
      "10/18/2016  07:37 PM    <DIR>          Calibre Library\n",
      "07/10/2015  12:56 PM    <DIR>          Custom Office Templates\n",
      "07/31/2016  01:00 AM    <DIR>          Home\n",
      "11/15/2016  09:02 PM             1,910 introduction_to_ipython.ipynb\n",
      "09/09/2015  08:17 PM    <DIR>          KICB\n",
      "10/12/2015  10:58 PM            12,712 loan.xlsx\n",
      "07/04/2015  06:26 PM    <DIR>          OneNote Notebooks\n",
      "10/21/2016  10:47 PM    <DIR>          Outlook Files\n",
      "11/24/2015  11:48 PM    <DIR>          Own Projects\n",
      "11/01/2015  09:42 PM    <DIR>          Photo\n",
      "11/15/2016  08:40 PM    <DIR>          Python Scripts\n",
      "10/18/2016  08:06 PM    <DIR>          Ramalho, Luciano\n",
      "03/31/2016  07:46 PM    <DIR>          Tax\n",
      "11/15/2016  08:46 PM                72 Untitled.ipynb\n",
      "10/19/2015  09:29 PM            16,775 ’ги®® ’®©.xlsx\n",
      "               4 File(s)         31,469 bytes\n",
      "              16 Dir(s)  78,183,694,336 bytes free\n"
     ]
    }
   ],
   "source": [
    "! dir"
   ]
  },
  {
   "cell_type": "code",
   "execution_count": 10,
   "metadata": {
    "collapsed": false
   },
   "outputs": [
    {
     "name": "stdout",
     "output_type": "stream",
     "text": [
      "Hello world!\n"
     ]
    }
   ],
   "source": [
    "! echo $var"
   ]
  },
  {
   "cell_type": "code",
   "execution_count": 11,
   "metadata": {
    "collapsed": false
   },
   "outputs": [
    {
     "data": {
      "text/plain": [
       "2319713088000.0"
      ]
     },
     "execution_count": 11,
     "metadata": {},
     "output_type": "execute_result"
    }
   ],
   "source": [
    "(190**4 - 120/0.3)*1780"
   ]
  },
  {
   "cell_type": "code",
   "execution_count": null,
   "metadata": {
    "collapsed": true
   },
   "outputs": [],
   "source": []
  }
 ],
 "metadata": {
  "kernelspec": {
   "display_name": "Python [default]",
   "language": "python",
   "name": "python2"
  },
  "language_info": {
   "codemirror_mode": {
    "name": "ipython",
    "version": 2
   },
   "file_extension": ".py",
   "mimetype": "text/x-python",
   "name": "python",
   "nbconvert_exporter": "python",
   "pygments_lexer": "ipython2",
   "version": "2.7.12"
  }
 },
 "nbformat": 4,
 "nbformat_minor": 1
}
